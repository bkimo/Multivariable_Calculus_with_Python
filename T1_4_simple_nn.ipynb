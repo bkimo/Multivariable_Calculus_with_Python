{
 "cells": [
  {
   "cell_type": "markdown",
   "metadata": {},
   "source": [
    "## Simple Neural Network\n",
    "\n",
    "This is rooted from \"[Multivariable Calculus for Machine Learning](https://www.coursera.org/learn/multivariate-calculus-machine-learning)\" by Imperial College London. The coresponding Youtube site is [here](https://www.youtube.com/playlist?list=PL2jykFOD1AWaL4_-bdidPfIWe765jOgfL). "
   ]
  },
  {
   "cell_type": "code",
   "execution_count": 1,
   "metadata": {},
   "outputs": [
    {
     "data": {
      "image/jpeg": "[encoded data removed]",
      "text/html": [
       "\n",
       "        <iframe\n",
       "            width=\"700\"\n",
       "            height=\"500\"\n",
       "            src=\"https://www.youtube.com/embed/F9m7Wh0rJzg\"\n",
       "            frameborder=\"0\"\n",
       "            allowfullscreen\n",
       "        ></iframe>\n",
       "        "
      ],
      "text/plain": [
       "<IPython.lib.display.YouTubeVideo at 0x7ffbe48e2160>"
      ]
     },
     "execution_count": 1,
     "metadata": {},
     "output_type": "execute_result"
    }
   ],
   "source": [
    "#First, watch the video.\n",
    "\n",
    "from IPython.display import YouTubeVideo\n",
    "YouTubeVideo('F9m7Wh0rJzg', width=700, height=500)"
   ]
  },
  {
   "cell_type": "markdown",
   "metadata": {},
   "source": [
    "**Problem 1.**  Recall from the video the structure of one of the simplest neural networks. \n",
    "\n",
    "  ![](./images/simple1.png)\n",
    "  \n",
    "   Here there are only two neurons (or nodes), and they are linked by a single edge.\n",
    "    \n",
    "   The *activation* of neurons in the final layer, (1), is determined by the activation of neurons in the previous layer, (0),\n",
    "       $$ a^{(1)} = \\sigma (w^{(1)}a^{(0)} + b^{(1)}), $$\n",
    " where $w^{(1)}$ is  the *weight* of the connection between Neuron (0) and Neuron (1), \n",
    "    and $b^{(1)}$ is the *bias* of the Neuron (1). These are then subject to \n",
    "    the *activation function*,  $\\sigma$ to give the activation of Neuron (1).\n",
    "    \n",
    "   Our small neural network won't be able to do a lot - it's far too simple. \n",
    "   It is however worth plugging a few numbers into it to get a feel for the parts.\n",
    "    \n",
    "   Let's assume we want to train the network to give a *NOT function*, \n",
    "    that is if you input 1 it returns 0, and if you input 0 it returns 1.\n",
    "    \n",
    "   For simplicity, let's use, $\\sigma(z) = \\tanh(z)$, for our activation function, \n",
    "    and randomly initialise our weight and bias to $w^{(1)}=1.3$ and $b^{(1)} = -0.1$.\n",
    "    \n",
    "   Use the code block below to see what output values the neural network initially\n",
    "   returns for training data.\n",
    "    "
   ]
  },
  {
   "cell_type": "code",
   "execution_count": 2,
   "metadata": {},
   "outputs": [
    {
     "data": {
      "text/plain": [
       "-0.09966799462495582"
      ]
     },
     "execution_count": 2,
     "metadata": {},
     "output_type": "execute_result"
    }
   ],
   "source": [
    "import numpy as np\n",
    "\n",
    "# First we set the state of the network\n",
    "sigma = np.tanh\n",
    "w1 = 1.3\n",
    "b1 = -0.1\n",
    "\n",
    "#Then we define the neuron activation\n",
    "def a1(a0):\n",
    "    return sigma(w1*a0+b1)\n",
    "\n",
    "#Finally, let's try the network out!\n",
    "#Replace $x$ with $0$ or $1$ below,\n",
    "x=0\n",
    "a1(x)"
   ]
  },
  {
   "cell_type": "markdown",
   "metadata": {},
   "source": [
    "It's not very good! But it's not trained yet; experiment by changing the weight and bias \n",
    "and see what happens. Print ten of your experiments. Which combination of \n",
    "the weight and bias in your experiment yielded the best result for a *NOT function*?"
   ]
  },
  {
   "cell_type": "markdown",
   "metadata": {},
   "source": [
    "**Problem 2.** Let's extend our simple network to include more neurons.\n",
    "\n",
    "![](./images/simple2.png)\n",
    "\n",
    " We now have a slightly changed notation. The neurons which are labelled by their layer with a \n",
    " superscript in brackets, are now also labelled with their number in that layer as a subscript,\n",
    " and form vectors $\\mathbf{a}^{(0)}$ and $\\mathbf{a}^{(1)}$.\n",
    " \n",
    " The weights now form a matrix $\\mathbf{W}^{(1)}$, where each element, $w^{(1)}_{ij}$, \n",
    " is the link between the neuron $j$ in the previous layer and neuron $i$ in the current layer. \n",
    " For example $w^{(1)}_{12}$ is highlighted linking $a^{(0)}_2$ to $a^{(1)}_1$.\n",
    "The biases similarly form a vector $\\mathbf{b}^{(1)}$. \n",
    "In general, the number of columns in $\\mathbf{W}$ matches the number of neurons that produced \n",
    "the vector $a$ at the previous layer. \n",
    "The number of rows in $\\mathbf{W}$ matches the number of neurons at the current layer.\n",
    "The number of components in $\\mathbf{b}$ also matches the number of neurons \n",
    "at the current neurons at the current layer. \n",
    "\n",
    "Now, we update our activation function to give,\n",
    " $$\\mathbf{a}^{(1)} = \\sigma\\left(\\mathbf{W}^{(1)}\\mathbf{a}^{(0)}+\\mathbf{b}^{(1)}\\right) , $$\n",
    "where all the quantities of interest have been upgraded to their vector \n",
    "and matrix form and $\\sigma$ acts upon each element of the resulting weighted sum vector separately.\n",
    "\n",
    "\n",
    "For a network with weights,  \n",
    "> $\\mathbf{W}^{(1)} = \\left[ \\begin{array}{ccc}\n",
    "                             -2 & 4 & -1 \\\\\n",
    "                             6 & 0 & -3\n",
    "                            \\end{array} \\right]$,\n",
    "      and\n",
    "bias $\\mathbf{b} = \\left[\\begin{array}{c}\n",
    "    0.1 \\\\ -2.5 \n",
    "    \\end{array} \\right] $.\n",
    " \n",
    "   **(a)** Calculate $\\mathbf{a}^{(1)}$ by hand (to 2 decimal places) and write the result.\n",
    "   \n",
    "   **(b)** Complete the code block below to see what output values the neural network\n",
    "   returns for training data. (Remember that you can use the @ operator in Python \n",
    "   to perform operate a matrix on a vector.) \n",
    "    "
   ]
  },
  {
   "cell_type": "code",
   "execution_count": null,
   "metadata": {},
   "outputs": [],
   "source": [
    "# First set up the network.\n",
    "import numpy as np\n",
    "\n",
    "sigma = np.tanh\n",
    "W = np.array([[-2, 4, -1],[6, 0, -3]])\n",
    "b = np.array([0.1, -2.5])\n",
    "\n",
    "# Define our input vector\n",
    "x = np.array([0.3, 0.4, 0.1])\n",
    "\n",
    "#\n",
    "# Your code calculating the values  a1_0 and a1_1 and replacing a1_0 and a1_1 below\n",
    "#\n",
    "\n",
    "a1 = np.array([a1_0, a1_1])"
   ]
  },
  {
   "cell_type": "markdown",
   "metadata": {},
   "source": [
    "**Problem 3.** Now let's look at a network with a hidden layer.\n",
    "\n",
    "  ![](./images/simple3.png)\n",
    " \n",
    "  Here, data is input at layer (0), this activates neurons in layer (1), \n",
    "  which become the inputs for neurons in layer (2). \n",
    "  (We've stopped explicitly drawing the biases here.)\n",
    "\n",
    " **(a)** Which of the following statements are true?\n",
    " \n",
    "    A. The number of weights in a layer is the product of \n",
    "         the input and output neurons to that layer.\n",
    "    B. This network can always be replaced with another one with the same amount \n",
    "       of input and output neurons, but no hidden layers.\n",
    "    C. This neural network has 5 biases.\n",
    "    D. The number of weights in a layer is the sum of the input and output neurons \n",
    "       to that layer plus 1.\n",
    "    E. This neural network has 9 biases.\n",
    "    F. None of the other statements.\n",
    " \n",
    " **(c)** What are the dimensions of $\\mathbf{W}^{(1)}$  and  $\\mathbf{W}^{(2)}$?\n",
    " \n",
    " **(c)** Which of the following statements about the neural network are true?\n",
    "   \n",
    "   A. $\\mathbf{a}^{(2)} = \\sigma\\left(\\mathbf{W}^{(1)}\\mathbf{a}^{(1)}+\\mathbf{b}^{(2)}\\right)$\n",
    "   \n",
    "   B. $\\mathbf{a}^{(2)} = \n",
    "     \\sigma\\left(\\mathbf{W}^{(2)}\\mathbf{W}^{(1)}\\mathbf{a}^{(0)}+\\mathbf{W}^{(2)}\\mathbf{b}^{(1)}+\n",
    "      \\mathbf{b}^{(2)}\\right)$\n",
    "      \n",
    "   C. $\\mathbf{a}^{(2)} = \n",
    "     \\sigma\\left(\\mathbf{W}^{(2)}\\sigma\\left(\\mathbf{W}^{(1)}\\mathbf{a}^{(0)}+\n",
    "     \\mathbf{b}^{(1)}\\right) +\\mathbf{b}^{(2)}\\right)$"
   ]
  },
  {
   "cell_type": "code",
   "execution_count": null,
   "metadata": {},
   "outputs": [],
   "source": []
  }
 ],
 "metadata": {
  "kernelspec": {
   "display_name": "Python 3",
   "language": "python",
   "name": "python3"
  },
  "language_info": {
   "codemirror_mode": {
    "name": "ipython",
    "version": 3
   },
   "file_extension": ".py",
   "mimetype": "text/x-python",
   "name": "python",
   "nbconvert_exporter": "python",
   "pygments_lexer": "ipython3",
   "version": "3.7.3"
  }
 },
 "nbformat": 4,
 "nbformat_minor": 2
}
